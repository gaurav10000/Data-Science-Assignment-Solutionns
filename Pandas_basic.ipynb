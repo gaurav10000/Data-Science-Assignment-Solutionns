{
 "cells": [
  {
   "cell_type": "code",
   "execution_count": 2,
   "metadata": {},
   "outputs": [],
   "source": [
    "import pandas as pd # import pandas"
   ]
  },
  {
   "cell_type": "code",
   "execution_count": 29,
   "metadata": {},
   "outputs": [
    {
     "name": "stdout",
     "output_type": "stream",
     "text": [
      "0     4\n",
      "1     8\n",
      "2    15\n",
      "3    16\n",
      "4    23\n",
      "5    42\n",
      "dtype: int64\n"
     ]
    }
   ],
   "source": [
    "#solution 1\n",
    "data = [4,8,15,16,23,42]\n",
    "\n",
    "series = pd.Series(data)\n",
    "\n",
    "print(series)\n"
   ]
  },
  {
   "cell_type": "code",
   "execution_count": 31,
   "metadata": {},
   "outputs": [
    {
     "name": "stdout",
     "output_type": "stream",
     "text": [
      "0     1\n",
      "1     2\n",
      "2     3\n",
      "3     4\n",
      "4     5\n",
      "5     6\n",
      "6     7\n",
      "7     8\n",
      "8     9\n",
      "9    10\n",
      "dtype: int64\n"
     ]
    }
   ],
   "source": [
    "# solution 2\n",
    "sample = [1,2,3,4,5,6,7,8,9,10]\n",
    "series = pd.Series(sample)\n",
    "print(series)"
   ]
  },
  {
   "cell_type": "code",
   "execution_count": 56,
   "metadata": {},
   "outputs": [
    {
     "name": "stdout",
     "output_type": "stream",
     "text": [
      "      Name  Age  Gender\n",
      "0    Alice   25  Female\n",
      "1      Bob   30    Male\n",
      "2  Charlie   27  Female\n"
     ]
    }
   ],
   "source": [
    "#solution 3\n",
    "data = {\n",
    "    \"Name\": [\"Alice\", \"Bob\", \"Charlie\"],\n",
    "    \"Age\": [25,30,27],\n",
    "    \"Gender\": [\"Female\", \"Male\", \"Female\"]\n",
    "}\n",
    "df = pd.DataFrame(data)\n",
    "print(df)"
   ]
  },
  {
   "attachments": {},
   "cell_type": "markdown",
   "metadata": {},
   "source": [
    "#solution 4\n",
    "In pandas \"series\" is a one dimensional labelled array data sturcture, which is a building block for DataFrame (i.e series are basically are used to make rows and colums in DataFrames with a little alteration in its structure) just like bricks used to make walls."
   ]
  },
  {
   "attachments": {},
   "cell_type": "markdown",
   "metadata": {},
   "source": [
    "#solution 5\n",
    "Following are some commonly used functions to manipulate data in pandas:\n",
    "1. pd.read_csv() : I will use it when I need to read a csv file.\n",
    "2. df.describe() : This method in pandas is used to generate summary statistics of various features of a DataFrame. It returns a new DataFrame that contains the count, mean, standard deviation, minimum, 25th percentile, median, 75th percentile, and maximum of each numerical column in the original DataFrame.\n",
    "3. df.plot() : This a method in pandas that is used to create various types of plots from a DataFrame. I will use it when I need to see data as a form of graph i.e to get a pictorial view.\n",
    "4. df.iloc[index] : This function is used to select rows and columns by their integer-based index in a DataFrame. I will use this function when I required to view or edit a particular row or column in a DataFrame.\n",
    "5. df.query() : This function allows you to filter a DataFrame based on a Boolean expression.\n",
    "The function returns a new DataFrame containing only the rows that satisfy the Boolean expression."
   ]
  },
  {
   "attachments": {},
   "cell_type": "markdown",
   "metadata": {},
   "source": [
    "#solution 6\n",
    "All pandas data structures are value mutable (can be changed) and except Series all are size mutable. "
   ]
  },
  {
   "cell_type": "code",
   "execution_count": 58,
   "metadata": {},
   "outputs": [
    {
     "name": "stdout",
     "output_type": "stream",
     "text": [
      "   Name  Age Occupation\n",
      "0  John   25   Engineer\n",
      "1  Jane   30     Doctor\n",
      "2   Jim   35    Teacher\n",
      "3  Joan   40     Lawyer\n"
     ]
    }
   ],
   "source": [
    "#solution 7\n",
    "series0  = pd.Series(['John', 25, 'Engineer'],index= ['Name', 'Age', 'Occupation'])\n",
    "series1  = pd.Series(['Jane', 30, \"Doctor\"],index = ['Name', 'Age', 'Occupation'])\n",
    "series2  = pd.Series(['Jim', 35, 'Teacher'],index = ['Name', 'Age', 'Occupation'])\n",
    "series3  = pd.Series(['Joan', 40, 'Lawyer'],index = ['Name', 'Age', 'Occupation'])\n",
    "\n",
    "df = pd.DataFrame([series0, series1, series2, series3], columns= ['Name', 'Age', 'Occupation'])\n",
    "print(df)\n",
    "\n",
    "# so as I just said above, series is a one dimensional array, and DataFrame is a two dimensional array formed with series as it's rows. One thing to note here is that the column of DataFrame must match the index of the series. If the index of the series does not match the column of the DataFrame, then the column of the DataFrame will be filled with NaN values."
   ]
  }
 ],
 "metadata": {
  "kernelspec": {
   "display_name": "Python 3",
   "language": "python",
   "name": "python3"
  },
  "language_info": {
   "codemirror_mode": {
    "name": "ipython",
    "version": 3
   },
   "file_extension": ".py",
   "mimetype": "text/x-python",
   "name": "python",
   "nbconvert_exporter": "python",
   "pygments_lexer": "ipython3",
   "version": "3.11.0"
  },
  "orig_nbformat": 4
 },
 "nbformat": 4,
 "nbformat_minor": 2
}
