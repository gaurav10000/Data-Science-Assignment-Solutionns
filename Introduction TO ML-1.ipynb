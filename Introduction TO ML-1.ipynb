{
 "cells": [
  {
   "attachments": {},
   "cell_type": "markdown",
   "metadata": {},
   "source": [
    "Artificial Intelligence: It is a set of programs that work similar to how human's Intelligence works like it can decide what is good and what is bad(according to humans), it can predict something on the basis of given data (like humans do regularly), it can learn on it's own.\n",
    "\n",
    "Example : Chatbots.\n",
    "\n",
    "Machine Learning: It is a branch of AI which focuses on the usage of data and algorithms to imitate the way humans learn and gradually improving it's accuracy.\n",
    "\n",
    "Example: Face detection.\n",
    "\n",
    "Deep Learning: It is a subset of Machine Learning whichh is essentially a neural network with three or more layers. These neural networks attempt to simulate the behaviour of human brain allowing it to learn from large amount of data.\n",
    "\n",
    "Example: DeepMinds \"Alphago\" program."
   ]
  },
  {
   "attachments": {},
   "cell_type": "markdown",
   "metadata": {},
   "source": [
    "Supervised learning is a subcategory of Machine Learning. It uses labelled datasets to train models to classify data or predict outcomes accurately.\n",
    "Example: classifying spams in emails, Image recognition."
   ]
  },
  {
   "attachments": {},
   "cell_type": "markdown",
   "metadata": {},
   "source": [
    "Unsupervised Learning is also a subcategory os ML which uses algorithms to analyze and group(cluster) unlabelled but similar data. These algorithms discover hidden patterns data clusters without the need of human intervention.\n",
    "Example: Customer segmentaton, data-analysis, cross-selling strategies."
   ]
  },
  {
   "attachments": {},
   "cell_type": "markdown",
   "metadata": {},
   "source": [
    "Artificial Intelligence (AI): It enables machines to think by understanding, learning from data, and taking decisions based on hidden patterns and make decisions ehich could have been difficult for hums to make.\n",
    "\n",
    "Machine Learning (ML): It is a subset of AI, it provides statistical tools/techniques like Supervised, Unsupervised, Reinforcment learning to explore and analyse the data.\n",
    "\n",
    "Deep Learning (DL): It's a furtherr subset of ML, it helps to work similar as human brains. Here we create multi neural network architectures with the help of different techniques like ANN, CNN, RNN.\n",
    "\n",
    "Data Science (DS): It is basically drawing insights from structured or unstructured data either by using ML or DL or even without any of them. We can use different visualization tools, statistics, and probability to gain these insights."
   ]
  },
  {
   "attachments": {},
   "cell_type": "markdown",
   "metadata": {},
   "source": [
    "The main differences between supervised and unsupervised learnings are :\n",
    "1. DataSets: In supervised learning input datases are labelled and then model have to classify output from given categories but in unsupervised learning data sets are not labelled adn model have to group the given data by analysing their behaviour or properties.\n",
    "\n",
    "2. Goals: In supervised learning goal is to predict the outcomes for new data, you kknow upfront what type of result to expect. Inn unsupervised learning, goal is to get insights from large volumes of new data.\n",
    "\n",
    "3. Applications: Supervised learnig models are ideal for spam detection, sentiment analysis, weather forcasting and pricing predictions. Unsupervised learning models are used for anomaly  detection, recommandation engines and medical imaging.\n",
    "\n",
    "4. Complexity: Supervised learning is a simple method for machine learning, typically calculated through the programs like R or Python. In Unsuprvised learninng , powerful tools are required for working with large amounts of unclassified data. Unsupervised models are computationally complex because they need large training set to produce intended outcomes.\n",
    "\n",
    "5. Drawbacks: Supervised models can be time consuming to train, and the labelds for input and output require expertise. Unsupervised models can canhave wildely inaccurate results unless you have humann intervntion to validate the output variables.\n",
    "\n",
    "And since Semi-supervised learning model is combination of both learning models so it is both similar and different fromm both of them in given points."
   ]
  },
  {
   "attachments": {},
   "cell_type": "markdown",
   "metadata": {},
   "source": [
    "Before we start doing any thing else, it is important to collect and  split(divide) the data into :\n",
    "1. Training dataset: A training set is a portion of a data set used to fit(train) a model for prediction or classification of values that are known in the training set but unknown in other (future) data.\n",
    "2. Testing dataset: A test dataset is a portion of dataset which is ud=sed to decide how accurate the model has become after training. Test dataset must not be used while training the model.\n",
    "3. Validation dataset: A validation dataset is a sample data that is used to give and estimate of model skill while tuning models hyperparameters. "
   ]
  },
  {
   "attachments": {},
   "cell_type": "markdown",
   "metadata": {},
   "source": [
    "Anomlaly Detection is the techniques of identifying rare events or observations which can raise suspecions by being statistically different from the rest of the observations.\n",
    "\n",
    "Unsupervised anomly detection: This method requires any training data and instead assumes two things about the data i.e. Only a small percentage of data is anomalous and any anomaly is statistically different from the normal samples. Based on the above assumptions, the data is then clustered using a similarity measure and the data points which are far off from the cluster are considered to be as anommalies.  "
   ]
  },
  {
   "attachments": {},
   "cell_type": "markdown",
   "metadata": {},
   "source": [
    "List of commonly used Unsupervised Learning algorithms:\n",
    "1. K-means clustering\n",
    "2. Neural Networks\n",
    "3. Hierarchal clustering\n",
    "4. Principle Component Analysis\n",
    "5. Independent Component Annalysis \n",
    "6. Apriori Algorithm\n",
    "\n",
    "List of some commonly used Supervised Learning algorithms:\n",
    "1. Support-vector machines\n",
    "2. Linear regression \n",
    "3. Logistic regression\n",
    "4. Naive Bayes\n",
    "5. Decision trees\n",
    "6. K-nearest neighbbour algorith"
   ]
  }
 ],
 "metadata": {
  "language_info": {
   "name": "python"
  },
  "orig_nbformat": 4
 },
 "nbformat": 4,
 "nbformat_minor": 2
}
